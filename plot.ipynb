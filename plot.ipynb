{
 "cells": [
  {
   "cell_type": "code",
   "execution_count": null,
   "metadata": {},
   "outputs": [],
   "source": [
    "import sys\n",
    "\n",
    "sys.path.append('./')\n",
    "\n",
    "from main import main\n",
    "from aggregator.optim_utils import Graphiques, create_superposed_graphics, load_graphics_from_files"
   ]
  },
  {
   "cell_type": "code",
   "execution_count": null,
   "metadata": {},
   "outputs": [],
   "source": [
    "main()"
   ]
  },
  {
   "cell_type": "code",
   "execution_count": null,
   "metadata": {},
   "outputs": [],
   "source": [
    "file_name_list = [(\"./output/optim/fixed_step/ntcl:50_function_choice:constant_to_1_rho:0,05_remuneration:1\", \"remuneration: 1\"), \n",
    "                  (\"./output/optim/fixed_step/ntcl:50_function_choice:constant_to_1_rho:0,05_remuneration:6\", \"remuneration: 6\")]\n",
    "\n",
    "graphics_list = load_graphics_from_files(file_name_list)\n",
    "create_superposed_graphics(graphics_list, ['facture_list'], 'output.png', y_log=False, y_symlog=False, linthreshy=1000, y_min=-20, y_max=10)\n"
   ]
  }
 ],
 "metadata": {
  "kernelspec": {
   "display_name": "Python 3",
   "language": "python",
   "name": "python3"
  },
  "language_info": {
   "codemirror_mode": {
    "name": "ipython",
    "version": 3
   },
   "file_extension": ".py",
   "mimetype": "text/x-python",
   "name": "python",
   "nbconvert_exporter": "python",
   "pygments_lexer": "ipython3",
   "version": "3.9.19"
  }
 },
 "nbformat": 4,
 "nbformat_minor": 2
}
