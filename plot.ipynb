{
 "cells": [
  {
   "cell_type": "code",
   "execution_count": 70,
   "metadata": {},
   "outputs": [],
   "source": [
    "import sys\n",
    "\n",
    "sys.path.append('./')\n",
    "\n",
    "from main import main\n",
    "from aggregator.optim_utils import Graphiques, create_superposed_graphics, load_graphics_from_files\n",
    "import matplotlib.pyplot as plt"
   ]
  },
  {
   "cell_type": "code",
   "execution_count": 38,
   "metadata": {},
   "outputs": [],
   "source": [
    "# main()"
   ]
  },
  {
   "cell_type": "code",
   "execution_count": 73,
   "metadata": {},
   "outputs": [
    {
     "name": "stdout",
     "output_type": "stream",
     "text": [
      "[  0.           0.           0.           0.           0.\n",
      "   0.           0.           0.           0.           0.\n",
      "   0.           0.           0.           0.           0.\n",
      "   0.           0.           0.           0.           0.\n",
      "   0.           0.           0.           0.           0.\n",
      "   0.           0.           0.           0.           0.\n",
      "   0.           0.           0.           0.           0.\n",
      "   0.         158.32835821 127.66169154 125.15422886 126.74626866\n",
      " 135.50248756 133.37313433   0.           0.           0.\n",
      "   0.           0.           0.        ]\n",
      "[  0.  40.  36.  48.  36.  52.  40.  92.  76.  48.  44.  68. 144. 212.\n",
      "   8.   4.   4.   8.  12.  40.  52.  40.  40.  32.  24.  48.  32.  16.\n",
      "  20.  24.  40.  32.   4.  12.   0.   0. 156. 128. 124. 128. 136. 132.\n",
      "   4.  20.   0.   0.   4.   0.]\n"
     ]
    }
   ],
   "source": [
    "# self.cout_min_liste = []\n",
    "# self.time_per_iteration = []\n",
    "# self.facture_list = []\n",
    "# self.upper_bound_list = []\n",
    "# self.num_try_list = []\n",
    "# self.step_it_list = []\n",
    "# self.somme_pi_list = []\n",
    "# self.p_agg_list = []\n",
    "\n",
    "\n",
    "\n",
    "# Comparaison des rho pour la résolution de l'algo : \n",
    "\n",
    "file_name_list = [(\"./output/optim/fixed_step/ntcl:100_function_choice:constant_to_5_rho:5.0\", \"rho: 5\"),\n",
    "                  (\"./output/optim/fixed_step/ntcl:100_function_choice:constant_to_5_rho:0.5\", \"rho: 5e-1\"),\n",
    "                  (\"./output/optim/fixed_step/ntcl:100_function_choice:constant_to_5_rho:0.05\", \"rho: 5e-2\"),\n",
    "                  (\"./output/optim/fixed_step/ntcl:100_function_choice:constant_to_5_rho:0.0005\", \"rho: 5e-4\"),\n",
    "                  (\"./output/optim/fixed_step/ntcl:100_function_choice:constant_to_5_rho:5e-05\", \"rho: 5e-5\"),\n",
    "                  ]\n",
    "\n",
    "graphics_list = load_graphics_from_files(file_name_list)\n",
    "create_superposed_graphics(graphics_list, ['facture_list'], 'rho_choice_price.png', y_label=\"prix\")\n",
    "create_superposed_graphics(graphics_list, ['cout_min_liste'], 'rho_choice_loss.png', y_log=True, y_symlog=True, linthreshy=100, y_label=\"prix\")\n",
    "print(graphics_list[0][0].p_agg_list[-1])\n",
    "print(graphics_list[0][0].somme_pi_list[-1])\n",
    "\n",
    "plt.figure(figsize=(10, 6))\n",
    "\n",
    "filename = 'ecart_entre_somme_ui_et_uag'\n",
    "for k in range(len(graphics_list)):\n",
    "    data = graphics_list[k][0].somme_pi_list[-1][36:42] - graphics_list[k][0].p_agg_list[-1][36:42]\n",
    "    plt.plot([i/2 for i in range(36, 42)], data, label=f\"5e-{k}\")\n",
    "\n",
    "plt.xlabel('demi heures')\n",
    "plt.ylabel('kilo watt')\n",
    "plt.legend()\n",
    "\n",
    "# Sauvegarde du graphique\n",
    "plt.savefig(\"./graphs/\"+filename)\n",
    "plt.close()# create_superposed_graphics(graphics_list, ['upper_bound_list'], 'rho_choice_upper_bound.png', y_log=True)\n"
   ]
  },
  {
   "cell_type": "code",
   "execution_count": 40,
   "metadata": {},
   "outputs": [],
   "source": [
    "# Comparaison des 4 algos pour 250 tcls : \n",
    "\n",
    "file_name_list = [(\"./output/optim/continuous_relaxation/ntcl:250_rho:0.05\", \"relaxation convexe\"),\n",
    "                  (\"./output/optim/fixed_step/ntcl:250_function_choice:constant_to_5_rho:0.05\", \"fixed step\"),\n",
    "                  (\"./output/optim/line_search/ntcl:250_function_choice:constant_to_5_rho:0.05\", \"line search\"),\n",
    "                  (\"./output/optim/fully_corrective/ntcl:250_function_choice:constant_to_5_rho:0.05\", \"fully corrective\"),]\n",
    "\n",
    "graphics_list = load_graphics_from_files(file_name_list)\n",
    "create_superposed_graphics(graphics_list, ['facture_list'], 'method_choice_250_price.png', y_label=\"prix\")\n",
    "create_superposed_graphics(graphics_list, ['cout_min_liste'], 'method_choice_250_loss.png', y_log=True, y_symlog=True, linthreshy=100, y_label=\"prix\")\n",
    "# create_superposed_graphics(graphics_list, ['upper_bound_list'], 'rho_choice_upper_bound.png', y_log=True)\n"
   ]
  },
  {
   "cell_type": "code",
   "execution_count": 53,
   "metadata": {},
   "outputs": [],
   "source": [
    "# Comparaison des 4 algos pour 100 tcls: \n",
    "\n",
    "file_name_list = [(\"./output/optim/continuous_relaxation/ntcl:100_rho:0.05\", \"relaxation convexe\"),\n",
    "                  (\"./output/optim/fixed_step/ntcl:100_function_choice:constant_to_5_rho:0.05\", \"fixed step\"),\n",
    "                  (\"./output/optim/line_search/ntcl:100_function_choice:constant_to_5_rho:0.05\", \"line search\"),\n",
    "                  (\"./output/optim/fully_corrective/ntcl:100_function_choice:constant_to_5_rho:0.05\", \"fully corrective\"),]\n",
    "\n",
    "graphics_list = load_graphics_from_files(file_name_list)\n",
    "create_superposed_graphics(graphics_list, ['facture_list'], 'method_choice_100_price.png', y_label=\"prix\")\n",
    "create_superposed_graphics(graphics_list, ['cout_min_liste'], 'method_choice_100_loss.png', y_log=True, y_symlog=True, linthreshy=100, y_label=\"prix\")\n",
    "create_superposed_graphics(graphics_list, ['time_per_iteration'], 'complexity_method_choice_100_loss.png', y_label=\"temps (s)\")\n",
    "\n",
    "# create_superposed_graphics(graphics_list, ['upper_bound_list'], 'rho_choice_upper_bound.png', y_log=True)\n"
   ]
  },
  {
   "cell_type": "code",
   "execution_count": 48,
   "metadata": {},
   "outputs": [],
   "source": [
    "# fully_c vs fully_corrective 20 memory: \n",
    "\n",
    "file_name_list = [(\"./output/optim/fully_corrective/ntcl:100_function_choice:constant_to_5_rho:0.05\", \"fully corrective\"),\n",
    "                  (\"./output/optim/fully_corrective/ntcl:100_function_choice:constant_to_5_rho:0.05_memory:20\", \"fully corrective - memory:20\"),]\n",
    "\n",
    "graphics_list = load_graphics_from_files(file_name_list)\n",
    "create_superposed_graphics(graphics_list, ['facture_list'], 'fully_c_vs_fully_c_20_price.png', y_label=\"prix\")\n",
    "create_superposed_graphics(graphics_list, ['cout_min_liste'], 'fully_c_vs_fully_c_20_loss.png', y_log=True, y_symlog=True, linthreshy=100, y_label=\"prix\")\n",
    "# create_superposed_graphics(graphics_list, ['upper_bound_list'], 'rho_choice_upper_bound.png', y_log=True)\n"
   ]
  },
  {
   "cell_type": "code",
   "execution_count": 42,
   "metadata": {},
   "outputs": [],
   "source": [
    "# Comparaison des 4 algos pour 40 tcls : \n",
    "\n",
    "file_name_list = [(\"./output/optim/continuous_relaxation/ntcl:40_rho:0.05\", \"relaxation convexe\"),\n",
    "                  (\"./output/optim/fixed_step/ntcl:40_function_choice:constant_to_5_rho:0.05\", \"fixed step\"),\n",
    "                  (\"./output/optim/line_search/ntcl:40_function_choice:constant_to_5_rho:0.05\", \"line search\"),\n",
    "                  (\"./output/optim/fully_corrective/ntcl:40_function_choice:constant_to_5_rho:0.05\", \"fully corrective\"),]\n",
    "\n",
    "graphics_list = load_graphics_from_files(file_name_list)\n",
    "create_superposed_graphics(graphics_list, ['facture_list'], 'method_choice_40_price.png', y_label=\"prix\")\n",
    "create_superposed_graphics(graphics_list, ['cout_min_liste'], 'method_choice_40_loss.png', y_log=True, y_symlog=True, linthreshy=100, y_label=\"prix\")\n",
    "# create_superposed_graphics(graphics_list, ['upper_bound_list'], 'rho_choice_upper_bound.png', y_log=True)"
   ]
  },
  {
   "cell_type": "code",
   "execution_count": 43,
   "metadata": {},
   "outputs": [],
   "source": [
    "# Comparaison des 4 algos pour 10 tcls : \n",
    "\n",
    "file_name_list = [(\"./output/optim/continuous_relaxation/ntcl:10_rho:0.05\", \"relaxation convexe\"),\n",
    "                  (\"./output/optim/fixed_step/ntcl:10_function_choice:constant_to_5_rho:0.05\", \"fixed step\"),\n",
    "                  (\"./output/optim/line_search/ntcl:10_function_choice:constant_to_5_rho:0.05\", \"line search\"),\n",
    "                  (\"./output/optim/fully_corrective/ntcl:10_function_choice:constant_to_5_rho:0.05\", \"fully corrective\"),]\n",
    "\n",
    "graphics_list = load_graphics_from_files(file_name_list)\n",
    "create_superposed_graphics(graphics_list, ['facture_list'], 'method_choice_10_price.png', y_label=\"prix\")\n",
    "create_superposed_graphics(graphics_list, ['cout_min_liste'], 'method_choice_10_loss.png', y_log=True, y_symlog=True, linthreshy=100, y_label=\"prix\")\n",
    "# create_superposed_graphics(graphics_list, ['upper_bound_list'], 'rho_choice_upper_bound.png', y_log=True)"
   ]
  },
  {
   "cell_type": "code",
   "execution_count": 54,
   "metadata": {},
   "outputs": [],
   "source": [
    "# Comparaison de différente fonction pour num_try : \n",
    "\n",
    "file_name_list = [(\"./output/optim/fixed_step/ntcl:100_function_choice:constant_to_5_rho:0.05\", \"constant=5\"),\n",
    "                  (\"./output/optim/fixed_step/ntcl:100_function_choice:sqrt_rho:0.05\", \"sqrt\"),\n",
    "                  (\"./output/optim/fixed_step/ntcl:100_function_choice:linear_rho:0.05\", \"linear\"),]\n",
    "\n",
    "graphics_list = load_graphics_from_files(file_name_list)\n",
    "create_superposed_graphics(graphics_list, ['facture_list'], 'function_num_try_1_price.png', y_label=\"prix\")\n",
    "create_superposed_graphics(graphics_list, ['cout_min_liste'], 'function_num_try_1_loss.png', y_log=True, y_label=\"prix\")\n",
    "create_superposed_graphics(graphics_list, ['time_per_iteration'], 'function_num_try_1_temps.png', y_label=\"temps (s)\")\n",
    "\n",
    "# create_superposed_graphics(graphics_list, ['upper_bound_list'], 'rho_choice_upper_bound.png', y_log=True)"
   ]
  },
  {
   "cell_type": "code",
   "execution_count": 45,
   "metadata": {},
   "outputs": [],
   "source": [
    "file_name_list = [(\"./output/optim/fixed_step/ntcl:100_function_choice:constant_to_5_rho:0.05\", \"constant=5\"),\n",
    "                  (\"./output/optim/fixed_step/ntcl:100_function_choice:sqrt_rho:0.05\", \"sqrt\"),\n",
    "                  (\"./output/optim/fixed_step/ntcl:100_function_choice:linear_rho:0.05\", \"linear\"),]\n",
    "\n",
    "graphics_list = load_graphics_from_files(file_name_list)\n",
    "create_superposed_graphics(graphics_list, ['facture_list'], 'function_num_try_1_price.png', y_label=\"prix\")\n",
    "create_superposed_graphics(graphics_list, ['cout_min_liste'], 'function_num_try_1_loss.png', y_log=True, y_label=\"prix\")"
   ]
  },
  {
   "cell_type": "code",
   "execution_count": 46,
   "metadata": {},
   "outputs": [],
   "source": [
    "\n",
    "file_name_list = [(\"./output/optim/continuous_relaxation/ntcl:40_rho:0.05\", \"relaxation convexe\"),\n",
    "                  (\"./output/optim/fixed_step/ntcl:100_function_choice:constant_to_5_rho:0.05\", \"fixed step\"),\n",
    "                  (\"./output/optim/fixed_step/ntcl:100_function_choice:constant_to_5_rho:0.05_800it\", \"fixed step 800it\"),\n",
    "                  (\"./output/optim/line_search/ntcl:40_function_choice:constant_to_5_rho:0.05\", \"line search\"),\n",
    "                  (\"./output/optim/fully_corrective/ntcl:100_function_choice:constant_to_5_rho:0.05\", \"fully corrective\"),\n",
    "                  (\"./output/optim/fully_corrective/ntcl:100_function_choice:constant_to_5_rho:0.05_memory:20\", \"fully corrective - memory:20\"),]\n",
    "\n",
    "graphics_list = load_graphics_from_files(file_name_list)\n",
    "create_superposed_graphics(graphics_list, ['facture_list'], '800_try_price.png', y_label=\"prix\",x_log=True)\n",
    "create_superposed_graphics(graphics_list, ['cout_min_liste'], '800_try_loss.png', y_log=True, y_symlog=True, linthreshy=100, x_log=True, y_label=\"loss\")"
   ]
  }
 ],
 "metadata": {
  "kernelspec": {
   "display_name": "Python 3",
   "language": "python",
   "name": "python3"
  },
  "language_info": {
   "codemirror_mode": {
    "name": "ipython",
    "version": 3
   },
   "file_extension": ".py",
   "mimetype": "text/x-python",
   "name": "python",
   "nbconvert_exporter": "python",
   "pygments_lexer": "ipython3",
   "version": "3.9.19"
  }
 },
 "nbformat": 4,
 "nbformat_minor": 2
}
