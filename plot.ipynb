{
 "cells": [
  {
   "cell_type": "code",
   "execution_count": 1,
   "metadata": {},
   "outputs": [],
   "source": [
    "import sys\n",
    "\n",
    "sys.path.append('./')\n",
    "\n",
    "from aggregator.optim_utils import Graphiques, create_superposed_graphics, load_graphics_from_files\n",
    "import matplotlib.pyplot as plt\n",
    "from mpl_toolkits.mplot3d import Axes3D\n",
    "\n",
    "import numpy as np"
   ]
  },
  {
   "cell_type": "code",
   "execution_count": 2,
   "metadata": {},
   "outputs": [],
   "source": [
    "# main()"
   ]
  },
  {
   "cell_type": "code",
   "execution_count": 3,
   "metadata": {},
   "outputs": [
    {
     "name": "stdout",
     "output_type": "stream",
     "text": [
      "[  0.           0.           0.           0.           0.\n",
      "   0.           0.           0.           0.           0.\n",
      "   0.           0.           0.           0.           0.\n",
      "   0.           0.           0.           0.           0.\n",
      "   0.           0.           0.           0.           0.\n",
      "   0.           0.           0.           0.           0.\n",
      "   0.           0.           0.           0.           0.\n",
      "   0.         158.32835821 127.66169154 125.15422886 126.74626866\n",
      " 135.50248756 133.37313433   0.           0.           0.\n",
      "   0.           0.           0.        ]\n",
      "[  0.  40.  36.  48.  36.  52.  40.  92.  76.  48.  44.  68. 144. 212.\n",
      "   8.   4.   4.   8.  12.  40.  52.  40.  40.  32.  24.  48.  32.  16.\n",
      "  20.  24.  40.  32.   4.  12.   0.   0. 156. 128. 124. 128. 136. 132.\n",
      "   4.  20.   0.   0.   4.   0.]\n"
     ]
    }
   ],
   "source": [
    "# self.cout_min_liste = []\n",
    "# self.time_per_iteration = []\n",
    "# self.facture_list = []\n",
    "# self.upper_bound_list = []\n",
    "# self.num_try_list = []\n",
    "# self.step_it_list = []\n",
    "# self.somme_pi_list = []\n",
    "# self.p_agg_list = []\n",
    "\n",
    "\n",
    "\n",
    "# Comparaison des rho pour la résolution de l'algo : \n",
    "\n",
    "file_name_list = [(\"./output/optim/fixed_step/ntcl:100_function_choice:constant_to_5_rho:5.0\", \"rho=5\"),\n",
    "                  (\"./output/optim/fixed_step/ntcl:100_function_choice:constant_to_5_rho:0.5\", \"rho=5e-1\"),\n",
    "                  (\"./output/optim/fixed_step/ntcl:100_function_choice:constant_to_5_rho:0.05\", \"rho=5e-2\"),\n",
    "                  (\"./output/optim/fixed_step/ntcl:100_function_choice:constant_to_5_rho:0.005\", \"rho=5e-3\"),\n",
    "                  (\"./output/optim/fixed_step/ntcl:100_function_choice:constant_to_5_rho:0.0005\", \"rho=5e-4\"),\n",
    "                  (\"./output/optim/fixed_step/ntcl:100_function_choice:constant_to_5_rho:5e-05\", \"rho=5e-5\"),\n",
    "                  ]\n",
    "\n",
    "graphics_list = load_graphics_from_files(file_name_list)\n",
    "create_superposed_graphics(graphics_list, ['facture_list'], 'rho_choice_price.png', y_label=\"Valeur de F_réel / nombre_tcl\", truncate=200)\n",
    "create_superposed_graphics(graphics_list, ['cout_min_liste'], 'rho_choice_loss.png', ntcl=100, y_log=True,  y_label=\"Valeur de F_pénalisé / nombre_tcl\", truncate=200)\n",
    "print(graphics_list[0][0].p_agg_list[-1])\n",
    "print(graphics_list[0][0].somme_pi_list[-1])\n",
    "\n",
    "plt.figure(figsize=(10, 6))\n",
    "\n",
    "filename = 'rho_ecart_entre_somme_ui_et_uag'\n",
    "for k in range(len(graphics_list)):\n",
    "    data = graphics_list[k][0].somme_pi_list[-1][36:42] - graphics_list[k][0].p_agg_list[-1][36:42]\n",
    "    data = np.concatenate(([0], data, [0]))\n",
    "    plt.plot([i/2 for i in range(35, 43)], data, label=f\"rho=5e-{k}\")\n",
    "\n",
    "plt.xlabel('demi heures')\n",
    "plt.ylabel('kilo watt')\n",
    "plt.legend()\n",
    "\n",
    "# Sauvegarde du graphique\n",
    "plt.savefig(\"./graphs/\"+filename)\n",
    "plt.close()# create_superposed_graphics(graphics_list, ['upper_bound_list'], 'rho_choice_upper_bound.png', y_log=True)\n"
   ]
  },
  {
   "cell_type": "code",
   "execution_count": 4,
   "metadata": {},
   "outputs": [
    {
     "name": "stdout",
     "output_type": "stream",
     "text": [
      "0.7852719999963369\n"
     ]
    }
   ],
   "source": [
    "graph = Graphiques()\n",
    "graph.reload_from_file(\"./output/optim/fixed_step/ntcl:100_function_choice:constant_to_5_rho:0.05\")\n",
    "list_of_arrays = graph.somme_pi_list[::-1]\n",
    "\n",
    "plt.figure(figsize=(10, 6))\n",
    "\n",
    "filename = 'evolution puissances'\n",
    "ltimes = [0, 50, 100, 199]\n",
    "for k in ltimes:\n",
    "    data = graph.somme_pi_list[k]\n",
    "    plt.plot([i/2 for i in range(48)], data, label=f\"iteration {k}\")\n",
    "\n",
    "plt.xlabel('Temps (heures)')\n",
    "plt.ylabel('kW')\n",
    "plt.legend()\n",
    "\n",
    "# Sauvegarde du graphique\n",
    "plt.savefig(\"./graphs/\"+filename)\n",
    "plt.close()\n",
    "print(graph.facture_list[-1])\n"
   ]
  },
  {
   "cell_type": "code",
   "execution_count": 5,
   "metadata": {},
   "outputs": [],
   "source": [
    "# Comparaison des 4 algos pour 250 tcls : \n",
    "\n",
    "file_name_list = [(\"./output/optim/continuous_relaxation/ntcl:250_rho:0.05\", \"relaxation convexe\"),\n",
    "                  (\"./output/optim/fixed_step/ntcl:250_function_choice:constant_to_5_rho:0.05\", \"fixed step\"),\n",
    "                  (\"./output/optim/line_search/ntcl:250_function_choice:constant_to_5_rho:0.05\", \"line search\"),\n",
    "                  (\"./output/optim/fully_corrective/ntcl:250_function_choice:constant_to_5_rho:0.05\", \"fully corrective\"),]\n",
    "\n",
    "graphics_list = load_graphics_from_files(file_name_list)\n",
    "create_superposed_graphics(graphics_list, ['facture_list'], 'method_choice_250_price.png', y_label=\"Valeur de F_réel / nombre_tcl\")\n",
    "create_superposed_graphics(graphics_list, ['cout_min_liste'], 'method_choice_250_loss.png', ntcl=250, y_log=True,  y_label=\"Valeur de F_pénalisé / nombre_tcl\")\n",
    "create_superposed_graphics(graphics_list, ['time_per_iteration'], 'method_choice_250_time.png', y_label=\"temps (s)\", truncate=125)\n",
    "\n",
    "# create_superposed_graphics(graphics_list, ['upper_bound_list'], 'rho_choice_upper_bound.png', y_log=True)\n"
   ]
  },
  {
   "cell_type": "code",
   "execution_count": 6,
   "metadata": {},
   "outputs": [],
   "source": [
    "# Comparaison des 4 algos pour 100 tcls: \n",
    "\n",
    "file_name_list = [(\"./output/optim/continuous_relaxation/ntcl:100_rho:0.05\", \"relaxation convexe\"),\n",
    "                  (\"./output/optim/fixed_step/ntcl:100_function_choice:constant_to_5_rho:0.05\", \"fixed step\"),\n",
    "                  (\"./output/optim/line_search/ntcl:100_function_choice:constant_to_5_rho:0.05\", \"line search\"),\n",
    "                  (\"./output/optim/fully_corrective/ntcl:100_function_choice:constant_to_5_rho:0.05\", \"fully corrective\"),]\n",
    "                #   (\"./output/optim/fully_corrective/ntcl:100_function_choice:constant_to_5_rho:0.05_memory:20\", \"fully corrective - 20 pas\"),]\n",
    "\n",
    "graphics_list = load_graphics_from_files(file_name_list)\n",
    "create_superposed_graphics(graphics_list, ['facture_list'], 'method_choice_100_price.png', y_label=\"Valeur de F_réel / nombre_tcl\")\n",
    "create_superposed_graphics(graphics_list, ['cout_min_liste'], 'method_choice_100_loss.png', ntcl=100, y_log=True,  y_label=\"Valeur de F_pénalisé / nombre_tcl\")\n",
    "# create_superposed_graphics(graphics_list, ['time_per_iteration'], 'method_choice_100_time.png', y_label=\"temps (s)\")\n",
    "\n",
    "# create_superposed_graphics(graphics_list, ['upper_bound_list'], 'rho_choice_upper_bound.png', y_log=True)\n"
   ]
  },
  {
   "cell_type": "code",
   "execution_count": 7,
   "metadata": {},
   "outputs": [],
   "source": [
    "# fully_c vs fully_corrective 20 memory: \n",
    "\n",
    "file_name_list = [(\"./output/optim/fully_corrective/ntcl:100_function_choice:constant_to_5_rho:0.05\", \"fully corrective\"),\n",
    "                  (\"./output/optim/fully_corrective/ntcl:100_function_choice:constant_to_5_rho:0.05_memory:20\", \"fully corrective - memory:20\"),\n",
    "                  (\"./output/optim/fully_corrective/ntcl:100_function_choice:constant_to_5_rho:0.05_memory:10\", \"fully corrective - memory:10\"),]\n",
    "\n",
    "graphics_list = load_graphics_from_files(file_name_list)\n",
    "create_superposed_graphics(graphics_list, ['facture_list'], 'fully_c_vs_fully_c_20_price.png', y_label=\"Valeur de F_réel / nombre_tcl\")\n",
    "create_superposed_graphics(graphics_list, ['cout_min_liste'], 'fully_c_vs_fully_c_20_loss.png', ntcl=100, y_log=True,  y_label=\"Valeur de F_pénalisé / nombre_tcl\")\n",
    "create_superposed_graphics(graphics_list, ['time_per_iteration'], 'fully_c_vs_fully_c_20_time.png', y_label=\"temps (s)\")\n",
    "\n",
    "# create_superposed_graphics(graphics_list, ['upper_bound_list'], 'rho_choice_upper_bound.png', y_log=True)\n"
   ]
  },
  {
   "cell_type": "code",
   "execution_count": 8,
   "metadata": {},
   "outputs": [],
   "source": [
    "# Comparaison des 4 algos pour 40 tcls : \n",
    "\n",
    "file_name_list = [(\"./output/optim/continuous_relaxation/ntcl:40_rho:0.05\", \"relaxation convexe\"),\n",
    "                  (\"./output/optim/fixed_step/ntcl:40_function_choice:constant_to_5_rho:0.05\", \"fixed step\"),\n",
    "                  (\"./output/optim/line_search/ntcl:40_function_choice:constant_to_5_rho:0.05\", \"line search\"),\n",
    "                  (\"./output/optim/fully_corrective/ntcl:40_function_choice:constant_to_5_rho:0.05\", \"fully corrective\"),]\n",
    "\n",
    "graphics_list = load_graphics_from_files(file_name_list)\n",
    "create_superposed_graphics(graphics_list, ['facture_list'], 'method_choice_40_price.png', y_label=\"Valeur de F_réel / nombre_tcl\")\n",
    "create_superposed_graphics(graphics_list, ['cout_min_liste'], 'method_choice_40_loss.png',ntcl=40, y_log=True,  y_label=\"Valeur de F_pénalisé / nombre_tcl\")\n",
    "# create_superposed_graphics(graphics_list, ['upper_bound_list'], 'rho_choice_upper_bound.png', y_log=True)"
   ]
  },
  {
   "cell_type": "code",
   "execution_count": 9,
   "metadata": {},
   "outputs": [],
   "source": [
    "# Comparaison des 4 algos pour 10 tcls : \n",
    "\n",
    "file_name_list = [(\"./output/optim/continuous_relaxation/ntcl:10_rho:0.05\", \"relaxation convexe\"),\n",
    "                  (\"./output/optim/fixed_step/ntcl:10_function_choice:constant_to_5_rho:0.05\", \"fixed step\"),\n",
    "                  (\"./output/optim/line_search/ntcl:10_function_choice:constant_to_5_rho:0.05\", \"line search\"),\n",
    "                  (\"./output/optim/fully_corrective/ntcl:10_function_choice:constant_to_5_rho:0.05\", \"fully corrective\"),]\n",
    "\n",
    "graphics_list = load_graphics_from_files(file_name_list)\n",
    "create_superposed_graphics(graphics_list, ['facture_list'], 'method_choice_10_price.png', y_label=\"Valeur de F_réel / nombre_tcl\")\n",
    "create_superposed_graphics(graphics_list, ['cout_min_liste'], 'method_choice_10_loss.png', ntcl=10, y_log=True,  y_label=\"Valeur de F_pénalisé / nombre_tcl\")\n",
    "# create_superposed_graphics(graphics_list, ['upper_bound_list'], 'rho_choice_upper_bound.png', y_log=True)"
   ]
  },
  {
   "cell_type": "code",
   "execution_count": 10,
   "metadata": {},
   "outputs": [],
   "source": [
    "# Comparaison de différente fonction pour num_try : \n",
    "\n",
    "file_name_list = [(\"./output/optim/fixed_step/ntcl:100_function_choice:constant_to_5_rho:0.05\", \"n_k = 5\"),\n",
    "                  (\"./output/optim/fixed_step/ntcl:100_function_choice:sqrt_rho:0.05\", \"n_k = sqrt(iteration)\"),\n",
    "                  (\"./output/optim/fixed_step/ntcl:100_function_choice:linear_rho:0.05\", \"n_k = iteration\"),]\n",
    "\n",
    "graphics_list = load_graphics_from_files(file_name_list)\n",
    "create_superposed_graphics(graphics_list, ['facture_list'], 'function_num_try_1_price.png', y_label=\"Valeur de F_réel / nombre_tcl\")\n",
    "create_superposed_graphics(graphics_list, ['cout_min_liste'], 'function_num_try_1_loss.png', ntcl=100,y_log=True, y_label=\"Valeur de F_pénalisé / nombre_tcl\")\n",
    "create_superposed_graphics(graphics_list, ['time_per_iteration'], 'function_num_try_1_temps.png', y_label=\"temps (s)\")\n",
    "\n",
    "# create_superposed_graphics(graphics_list, ['upper_bound_list'], 'rho_choice_upper_bound.png', y_log=True)"
   ]
  },
  {
   "cell_type": "code",
   "execution_count": 11,
   "metadata": {},
   "outputs": [],
   "source": [
    "# Comparaison de différente fonction pour num_try : \n",
    "\n",
    "file_name_list = [(\"./output/optim/fixed_step/ntcl:100_function_choice:constant_to_1_rho:0.05\", \"constant=1\"),\n",
    "                  (\"./output/optim/fixed_step/ntcl:100_function_choice:constant_to_200_rho:0.05\", \"constant=200\"),\n",
    "                  (\"./output/optim/fixed_step/ntcl:100_function_choice:no_keep_last_rho:0.05\", \"no keep\"),]\n",
    "\n",
    "graphics_list = load_graphics_from_files(file_name_list)\n",
    "create_superposed_graphics(graphics_list, ['facture_list'], 'function_num_try_1_price.png', y_label=\"Valeur de F_réel / nombre_tcl\", truncate=200)\n",
    "create_superposed_graphics(graphics_list, ['cout_min_liste'], 'function_num_try_1_loss.png', ntcl=100,y_log=True, y_label=\"Valeur de F_pénalisé / nombre_tcl\", truncate=200)\n",
    "create_superposed_graphics(graphics_list, ['time_per_iteration'], 'function_num_try_1_temps.png', y_label=\"temps (s)\", truncate=200)\n",
    "\n",
    "# create_superposed_graphics(graphics_list, ['upper_bound_list'], 'rho_choice_upper_bound.png', y_log=True)"
   ]
  },
  {
   "cell_type": "code",
   "execution_count": 12,
   "metadata": {},
   "outputs": [],
   "source": [
    "file_name_list = [(\"./output/optim/fixed_step/ntcl:100_function_choice:constant_to_5_rho:0.05\", \"constant=5\"),\n",
    "                  (\"./output/optim/fixed_step/ntcl:100_function_choice:sqrt_rho:0.05\", \"sqrt\"),\n",
    "                  (\"./output/optim/fixed_step/ntcl:100_function_choice:linear_rho:0.05\", \"linear\"),]\n",
    "\n",
    "graphics_list = load_graphics_from_files(file_name_list)\n",
    "create_superposed_graphics(graphics_list, ['facture_list'], 'function_num_try_1_price.png', y_label=\"Valeur de F_réel / nombre_tcl\")\n",
    "create_superposed_graphics(graphics_list, ['cout_min_liste'], 'function_num_try_1_loss.png', ntcl=100,y_log=True, y_label=\"Valeur de F_pénalisé / nombre_tcl\")"
   ]
  },
  {
   "cell_type": "code",
   "execution_count": 13,
   "metadata": {},
   "outputs": [],
   "source": [
    "\n",
    "file_name_list = [(\"./output/optim/continuous_relaxation/ntcl:40_rho:0.05\", \"relaxation convexe\"),\n",
    "                  (\"./output/optim/fixed_step/ntcl:100_function_choice:constant_to_5_rho:0.05\", \"fixed step\"),\n",
    "                  (\"./output/optim/fixed_step/ntcl:100_function_choice:constant_to_5_rho:0.05_800it\", \"fixed step 800it\"),\n",
    "                  (\"./output/optim/line_search/ntcl:40_function_choice:constant_to_5_rho:0.05\", \"line search\"),\n",
    "                  (\"./output/optim/fully_corrective/ntcl:100_function_choice:constant_to_5_rho:0.05\", \"fully corrective\"),\n",
    "                  (\"./output/optim/fully_corrective/ntcl:100_function_choice:constant_to_5_rho:0.05_memory:20\", \"fully corrective - memory:20\"),]\n",
    "\n",
    "graphics_list = load_graphics_from_files(file_name_list)\n",
    "create_superposed_graphics(graphics_list, ['facture_list'], '800_try_price.png', y_label=\"Valeur de F_réel / nombre_tcl\",x_log=True)\n",
    "create_superposed_graphics(graphics_list, ['cout_min_liste'], '800_try_loss.png', ntcl=100,y_log=True,  x_log=True, y_label=\"Valeur de F_pénalisé / nombre_tcl\")"
   ]
  }
 ],
 "metadata": {
  "kernelspec": {
   "display_name": "Python 3",
   "language": "python",
   "name": "python3"
  },
  "language_info": {
   "codemirror_mode": {
    "name": "ipython",
    "version": 3
   },
   "file_extension": ".py",
   "mimetype": "text/x-python",
   "name": "python",
   "nbconvert_exporter": "python",
   "pygments_lexer": "ipython3",
   "version": "3.9.19"
  }
 },
 "nbformat": 4,
 "nbformat_minor": 2
}
