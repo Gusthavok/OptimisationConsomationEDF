{
 "cells": [
  {
   "cell_type": "code",
   "execution_count": 1,
   "metadata": {},
   "outputs": [],
   "source": [
    "import sys\n",
    "\n",
    "sys.path.append('./')\n",
    "\n",
    "from main import main\n",
    "from aggregator.optim_utils import Graphiques, create_superposed_graphics, load_graphics_from_files"
   ]
  },
  {
   "cell_type": "code",
   "execution_count": null,
   "metadata": {},
   "outputs": [],
   "source": [
    "main()"
   ]
  },
  {
   "cell_type": "code",
   "execution_count": 4,
   "metadata": {},
   "outputs": [],
   "source": [
    "# self.cout_min_liste = []\n",
    "# self.time_per_iteration = []\n",
    "# self.facture_list = []\n",
    "# self.upper_bound_list = []\n",
    "# self.num_try_list = []\n",
    "# self.step_it_list = []\n",
    "# self.somme_pi_list = []\n",
    "# self.p_agg_list = []\n",
    "\n",
    "\n",
    "\n",
    "file_name_list = [(\"./output/optim/fixed_step/ntcl:100_function_choice:constant_to_5_rho:5.0\", \"rho: 5\"),\n",
    "                  (\"./output/optim/fixed_step/ntcl:100_function_choice:constant_to_5_rho:0.5\", \"rho: 0.5\"),\n",
    "                  (\"./output/optim/fixed_step/ntcl:100_function_choice:constant_to_5_rho:0.05\", \"rho: 0.05\"),]\n",
    "\n",
    "graphics_list = load_graphics_from_files(file_name_list)\n",
    "create_superposed_graphics(graphics_list, ['facture_list'], 'rho_choice_price.png')\n",
    "create_superposed_graphics(graphics_list, ['cout_min_liste'], 'rho_choice_loss.png', y_log=True)\n",
    "# create_superposed_graphics(graphics_list, ['upper_bound_list'], 'rho_choice_upper_bound.png', y_log=True)\n"
   ]
  },
  {
   "cell_type": "code",
   "execution_count": 8,
   "metadata": {},
   "outputs": [],
   "source": [
    "file_name_list = [(\"./output/optim/continuous_relaxation/ntcl:100_rho:0.05\", \"relaxation convexe\"),\n",
    "                  (\"./output/optim/fixed_step/ntcl:100_function_choice:constant_to_5_rho:0.05\", \"fixed step\"),\n",
    "                  (\"./output/optim/line_search/ntcl:100_function_choice:constant_to_5_rho:0.05\", \"line search\"),\n",
    "                  (\"./output/optim/fully_corrective/ntcl:100_function_choice:constant_to_5_rho:0.05\", \"fully corrective\"),]\n",
    "\n",
    "graphics_list = load_graphics_from_files(file_name_list)\n",
    "create_superposed_graphics(graphics_list, ['facture_list'], 'method_choice_100_price.png')\n",
    "create_superposed_graphics(graphics_list, ['cout_min_liste'], 'method_choice_100_loss.png', y_log=True)\n",
    "# create_superposed_graphics(graphics_list, ['upper_bound_list'], 'rho_choice_upper_bound.png', y_log=True)\n"
   ]
  },
  {
   "cell_type": "code",
   "execution_count": 12,
   "metadata": {},
   "outputs": [],
   "source": [
    "file_name_list = [(\"./output/optim/continuous_relaxation/ntcl:10_rho:0.05\", \"relaxation convexe\"),\n",
    "                  (\"./output/optim/fixed_step/ntcl:10_function_choice:constant_to_5_rho:0.05\", \"fixed step\"),\n",
    "                  (\"./output/optim/line_search/ntcl:10_function_choice:constant_to_5_rho:0.05\", \"line search\"),\n",
    "                  (\"./output/optim/fully_corrective/ntcl:10_function_choice:constant_to_5_rho:0.05\", \"fully corrective\"),]\n",
    "\n",
    "graphics_list = load_graphics_from_files(file_name_list)\n",
    "create_superposed_graphics(graphics_list, ['facture_list'], 'method_choice_10_price.png')\n",
    "create_superposed_graphics(graphics_list, ['cout_min_liste'], 'method_choice_10_loss.png', y_log=True, y_symlog=True, linthreshy=100)\n",
    "# create_superposed_graphics(graphics_list, ['upper_bound_list'], 'rho_choice_upper_bound.png', y_log=True)"
   ]
  },
  {
   "cell_type": "code",
   "execution_count": 10,
   "metadata": {},
   "outputs": [],
   "source": [
    "file_name_list = [(\"./output/optim/fixed_step/ntcl:100_function_choice:constant_to_5_rho:0.05\", \"constant=5\"),\n",
    "                  (\"./output/optim/fixed_step/ntcl:100_function_choice:sqrt_rho:0.05\", \"sqrt\"),\n",
    "                  (\"./output/optim/fixed_step/ntcl:100_function_choice:linear_rho:0.05\", \"linear\"),]\n",
    "\n",
    "graphics_list = load_graphics_from_files(file_name_list)\n",
    "create_superposed_graphics(graphics_list, ['facture_list'], 'function_num_try_1_price.png')\n",
    "create_superposed_graphics(graphics_list, ['cout_min_liste'], 'function_num_try_1_loss.png', y_log=True)\n",
    "# create_superposed_graphics(graphics_list, ['upper_bound_list'], 'rho_choice_upper_bound.png', y_log=True)"
   ]
  }
 ],
 "metadata": {
  "kernelspec": {
   "display_name": "Python 3",
   "language": "python",
   "name": "python3"
  },
  "language_info": {
   "codemirror_mode": {
    "name": "ipython",
    "version": 3
   },
   "file_extension": ".py",
   "mimetype": "text/x-python",
   "name": "python",
   "nbconvert_exporter": "python",
   "pygments_lexer": "ipython3",
   "version": "3.9.19"
  }
 },
 "nbformat": 4,
 "nbformat_minor": 2
}
